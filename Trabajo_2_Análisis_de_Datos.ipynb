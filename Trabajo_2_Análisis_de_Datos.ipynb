{
  "cells": [
    {
      "cell_type": "markdown",
      "metadata": {
        "id": "view-in-github",
        "colab_type": "text"
      },
      "source": [
        "<a href=\"https://colab.research.google.com/github/Smonasteriog/HeramientasDeAnalisisV2/blob/main/Trabajo_2_An%C3%A1lisis_de_Datos.ipynb\" target=\"_parent\"><img src=\"https://colab.research.google.com/assets/colab-badge.svg\" alt=\"Open In Colab\"/></a>"
      ]
    },
    {
      "cell_type": "markdown",
      "metadata": {
        "id": "AbO7sCy318g4"
      },
      "source": [
        "Sentiment Analysis with BERT (Transfer learning, without fine-tune)"
      ]
    },
    {
      "cell_type": "markdown",
      "metadata": {
        "id": "tyqt5XEG19rW"
      },
      "source": [
        "Integrantes: Francisca Gajardo - Stefany Monasterio\n"
      ]
    },
    {
      "cell_type": "markdown",
      "metadata": {
        "id": "uO-2hSlo2L_4"
      },
      "source": [
        "#Step 0: Cargar librerias"
      ]
    },
    {
      "cell_type": "code",
      "execution_count": null,
      "metadata": {
        "id": "5Vr-3GrS0uDe"
      },
      "outputs": [],
      "source": [
        "import pandas as pd\n",
        "import numpy as np\n",
        "import random\n",
        "import re\n",
        "\n",
        "from sklearn.model_selection import train_test_split\n",
        "from sklearn.utils import resample\n",
        "\n",
        "# metrics\n",
        "from sklearn.metrics import accuracy_score\n",
        "from sklearn.metrics import precision_score\n",
        "from sklearn.metrics import recall_score\n",
        "from sklearn.metrics import f1_score\n",
        "\n",
        "# plots\n",
        "import seaborn as sns\n",
        "import matplotlib.pyplot as plt\n",
        "\n"
      ]
    },
    {
      "cell_type": "code",
      "execution_count": null,
      "metadata": {
        "id": "gpvxPGEN8Y-j"
      },
      "outputs": [],
      "source": [
        "def metrics_report(y_test, y_pred):\n",
        "    # metrics \n",
        "    precision = precision_score(y_test, y_pred)\n",
        "    recall = recall_score(y_test, y_pred)\n",
        "    f1 = f1_score(y_test, y_pred)\n",
        "    acc = accuracy_score(y_test, y_pred)\n",
        "\n",
        "    return precision, recall, f1, acc"
      ]
    },
    {
      "cell_type": "markdown",
      "metadata": {
        "id": "E5857rVg2Zrf"
      },
      "source": [
        "#Steps 1: Cargar base de datos"
      ]
    },
    {
      "cell_type": "code",
      "execution_count": null,
      "metadata": {
        "id": "ParHVwIcFwV1"
      },
      "outputs": [],
      "source": [
        "from google.colab import drive\n",
        "drive.mount('/content/gdrive')"
      ]
    },
    {
      "cell_type": "code",
      "execution_count": null,
      "metadata": {
        "id": "Kl0NImoLF5ir"
      },
      "outputs": [],
      "source": [
        "!pip install spacy --quiet\n",
        "!python -m spacy download es_core_news_md --quiet\n",
        "!python -m spacy download es_core_news_md --quiet\n",
        "!python -m spacy download es_core_news_sm --quiet"
      ]
    },
    {
      "cell_type": "code",
      "execution_count": null,
      "metadata": {
        "id": "6Y5miPCRF9BM"
      },
      "outputs": [],
      "source": [
        "import warnings\n",
        "warnings.filterwarnings('ignore')"
      ]
    },
    {
      "cell_type": "code",
      "execution_count": null,
      "metadata": {
        "id": "QldeDnVZFu63"
      },
      "outputs": [],
      "source": [
        "%cd '/content/gdrive/MyDrive'"
      ]
    },
    {
      "cell_type": "code",
      "execution_count": null,
      "metadata": {
        "id": "l6T9GZurGMe6"
      },
      "outputs": [],
      "source": [
        "import datetime\n",
        "import os\n",
        "import pandas as pd\n",
        "# Carga librerias\n",
        "import warnings\n",
        "warnings.filterwarnings('ignore')\n",
        "import spacy\n",
        "import pandas as pd\n",
        "import numpy as np\n",
        "from wordcloud import WordCloud\n",
        "import nltk\n",
        "from nltk.tokenize import word_tokenize\n",
        "from nltk.corpus import stopwords\n",
        "import string\n",
        "import spacy\n",
        "import os\n",
        "import matplotlib.pyplot as plt\n",
        "import seaborn as sns\n",
        "import math\n",
        "remove_punct_map = dict.fromkeys(map(ord, string.punctuation))\n",
        "pd.set_option('display.max_rows',1000)\n",
        "pd.set_option('display.max_columns',1000)\n",
        "from itertools import compress\n",
        "from nltk import word_tokenize\n",
        "import re\n",
        "from IPython.display import Image"
      ]
    },
    {
      "cell_type": "code",
      "execution_count": null,
      "metadata": {
        "id": "7C-EgopEGPR1"
      },
      "outputs": [],
      "source": [
        "nltk.download('punkt')\n",
        "nltk.download('stopwords')\n",
        "nltk.download('wordnet')\n",
        "nltk.download('omw-1.4')\n",
        "esp_stop = stopwords.words('spanish')\n",
        "nlp = spacy.load(\"es_core_news_sm\")"
      ]
    },
    {
      "cell_type": "code",
      "execution_count": null,
      "metadata": {
        "id": "XVYmyGg9GSFM"
      },
      "outputs": [],
      "source": [
        "%reload_ext rpy2.ipython"
      ]
    },
    {
      "cell_type": "code",
      "execution_count": null,
      "metadata": {
        "id": "kU5ln2EcGWMw"
      },
      "outputs": [],
      "source": [
        "%ls"
      ]
    },
    {
      "cell_type": "code",
      "execution_count": null,
      "metadata": {
        "id": "Ey-wG9HfGYpm"
      },
      "outputs": [],
      "source": [
        "%mkdir 'Nueva'"
      ]
    },
    {
      "cell_type": "code",
      "execution_count": null,
      "metadata": {
        "id": "TgZwag2PGfpk"
      },
      "outputs": [],
      "source": [
        "ls"
      ]
    },
    {
      "cell_type": "code",
      "execution_count": null,
      "metadata": {
        "id": "AO-7Nu8oIHqA"
      },
      "outputs": [],
      "source": [
        "cd 'Nueva'"
      ]
    },
    {
      "cell_type": "code",
      "execution_count": null,
      "metadata": {
        "id": "CXh8GJ7lGmKL"
      },
      "outputs": [],
      "source": [
        "%cd '/content/drive/MyDrive/Nueva'"
      ]
    },
    {
      "cell_type": "code",
      "execution_count": null,
      "metadata": {
        "id": "oulchOhgIR8A"
      },
      "outputs": [],
      "source": [
        "ls"
      ]
    },
    {
      "cell_type": "code",
      "execution_count": null,
      "metadata": {
        "id": "AZr4HrQJId7I"
      },
      "outputs": [],
      "source": [
        "%reload_ext rpy2.ipython"
      ]
    },
    {
      "cell_type": "code",
      "execution_count": null,
      "metadata": {
        "id": "jmwYLRPQEe_X"
      },
      "outputs": [],
      "source": [
        "df = pd.read_csv('/content/gdrive/MyDrive/Nueva/Coffe.csv', sep=\";\")"
      ]
    },
    {
      "cell_type": "markdown",
      "source": [
        "#Steps 2: Datos"
      ],
      "metadata": {
        "id": "G9fTvBiW2dnl"
      }
    },
    {
      "cell_type": "code",
      "execution_count": null,
      "metadata": {
        "id": "rcyAoZkxJT4p",
        "colab": {
          "base_uri": "https://localhost:8080/"
        },
        "outputId": "ae6ebb2d-f8c0-459e-c9e8-1164553b5874"
      },
      "outputs": [
        {
          "output_type": "execute_result",
          "data": {
            "text/plain": [
              "Index(['name', 'roaster', 'roast', 'loc_country', 'origin_1', 'origin_2',\n",
              "       '100g_USD', 'rating', 'review_date', 'desc_1', 'Unnamed: 10',\n",
              "       'Unnamed: 11'],\n",
              "      dtype='object')"
            ]
          },
          "metadata": {},
          "execution_count": 245
        }
      ],
      "source": [
        "df.columns"
      ]
    },
    {
      "cell_type": "markdown",
      "source": [],
      "metadata": {
        "id": "wD91F2nC2hao"
      }
    },
    {
      "cell_type": "code",
      "execution_count": null,
      "metadata": {
        "id": "i3qt5zjvJYAr",
        "colab": {
          "base_uri": "https://localhost:8080/",
          "height": 832
        },
        "outputId": "2dba2a0a-fb22-4a2f-9211-3b10e1dc2e0c"
      },
      "outputs": [
        {
          "output_type": "execute_result",
          "data": {
            "text/plain": [
              "                            name                    roaster         roast  \\\n",
              "0        “Sweety” Espresso Blend                     A.R.C.  Medium-Light   \n",
              "1           Flora Blend Espresso                     A.R.C.  Medium-Light   \n",
              "2       Ethiopia Shakiso Mormora               Revel Coffee  Medium-Light   \n",
              "3             Ethiopia Suke Quto                Roast House  Medium-Light   \n",
              "4     Ethiopia Gedeb Halo Beriti  Big Creek Coffee Roasters        Medium   \n",
              "...                          ...                        ...           ...   \n",
              "2086              Finca Patzibir               El Gran Cafe  Medium-Light   \n",
              "2087             Proyecto Aurora               El Gran Cafe  Medium-Light   \n",
              "2088            Finca El Potrero               El Gran Cafe  Medium-Light   \n",
              "2089    Chacayá Santiago Atitlán               El Gran Cafe  Medium-Light   \n",
              "2090              Espresso No. a               El Gran Cafe  Medium-Light   \n",
              "\n",
              "        loc_country                     origin_1           origin_2  100g_USD  \\\n",
              "0         Hong Kong                       Panama           Ethiopia     14.32   \n",
              "1         Hong Kong                       Africa       Asia Pacific      9.05   \n",
              "2     United States                    Guji Zone  Southern Ethiopia      4.70   \n",
              "3     United States                    Guji Zone      Oromia Region      4.19   \n",
              "4     United States               Gedeb District         Gedeo Zone      4.85   \n",
              "...             ...                          ...                ...       ...   \n",
              "2086      Guatemala  Lake Atitlán Growing Region          Guatemala      4.70   \n",
              "2087      Guatemala       Antigua Growing Region          Guatemala      2.94   \n",
              "2088      Guatemala       Antigua Growing Region          Guatemala      2.94   \n",
              "2089      Guatemala  Lake Atitlán Growing Region          Guatemala      4.70   \n",
              "2090      Guatemala       Antigua Growing Region          Guatemala      5.88   \n",
              "\n",
              "      rating    review_date  \\\n",
              "0         95  November 2017   \n",
              "1         94  November 2017   \n",
              "2         92  November 2017   \n",
              "3         92  November 2017   \n",
              "4         94  November 2017   \n",
              "...      ...            ...   \n",
              "2086      92  November 2022   \n",
              "2087      93  November 2022   \n",
              "2088      93  November 2022   \n",
              "2089      93  November 2022   \n",
              "2090      94  November 2022   \n",
              "\n",
              "                                                 desc_1 Unnamed: 10  \\\n",
              "0     Evaluated as espresso. Sweet-toned, deeply ric...         NaN   \n",
              "1     Evaluated as espresso. Sweetly tart, floral-to...         NaN   \n",
              "2     Crisply sweet, cocoa-toned. Lemon blossom, roa...         NaN   \n",
              "3     Delicate, sweetly spice-toned. Pink peppercorn...         NaN   \n",
              "4     Deeply sweet, subtly pungent. Honey, pear, tan...         NaN   \n",
              "...                                                 ...         ...   \n",
              "2086  Crisply sweet, nut-toned. Almond brittle, pie ...         NaN   \n",
              "2087  Chocolaty, floral-framed. Cocoa nib, honeysuck...         NaN   \n",
              "2088  High-toned, enticingly sweet. Black cherry, na...         NaN   \n",
              "2089   Vibrantly sweet, subtly nuanced. Apricot, dar...         NaN   \n",
              "2090  Evaluated as espresso. Multi-layered, complex....         NaN   \n",
              "\n",
              "     Unnamed: 11  \n",
              "0            NaN  \n",
              "1            NaN  \n",
              "2            NaN  \n",
              "3            NaN  \n",
              "4            NaN  \n",
              "...          ...  \n",
              "2086         NaN  \n",
              "2087         NaN  \n",
              "2088         NaN  \n",
              "2089         NaN  \n",
              "2090         NaN  \n",
              "\n",
              "[2091 rows x 12 columns]"
            ],
            "text/html": [
              "\n",
              "  <div id=\"df-02fb0b85-7033-4333-bb59-5c66fc2335a3\">\n",
              "    <div class=\"colab-df-container\">\n",
              "      <div>\n",
              "<style scoped>\n",
              "    .dataframe tbody tr th:only-of-type {\n",
              "        vertical-align: middle;\n",
              "    }\n",
              "\n",
              "    .dataframe tbody tr th {\n",
              "        vertical-align: top;\n",
              "    }\n",
              "\n",
              "    .dataframe thead th {\n",
              "        text-align: right;\n",
              "    }\n",
              "</style>\n",
              "<table border=\"1\" class=\"dataframe\">\n",
              "  <thead>\n",
              "    <tr style=\"text-align: right;\">\n",
              "      <th></th>\n",
              "      <th>name</th>\n",
              "      <th>roaster</th>\n",
              "      <th>roast</th>\n",
              "      <th>loc_country</th>\n",
              "      <th>origin_1</th>\n",
              "      <th>origin_2</th>\n",
              "      <th>100g_USD</th>\n",
              "      <th>rating</th>\n",
              "      <th>review_date</th>\n",
              "      <th>desc_1</th>\n",
              "      <th>Unnamed: 10</th>\n",
              "      <th>Unnamed: 11</th>\n",
              "    </tr>\n",
              "  </thead>\n",
              "  <tbody>\n",
              "    <tr>\n",
              "      <th>0</th>\n",
              "      <td>“Sweety” Espresso Blend</td>\n",
              "      <td>A.R.C.</td>\n",
              "      <td>Medium-Light</td>\n",
              "      <td>Hong Kong</td>\n",
              "      <td>Panama</td>\n",
              "      <td>Ethiopia</td>\n",
              "      <td>14.32</td>\n",
              "      <td>95</td>\n",
              "      <td>November 2017</td>\n",
              "      <td>Evaluated as espresso. Sweet-toned, deeply ric...</td>\n",
              "      <td>NaN</td>\n",
              "      <td>NaN</td>\n",
              "    </tr>\n",
              "    <tr>\n",
              "      <th>1</th>\n",
              "      <td>Flora Blend Espresso</td>\n",
              "      <td>A.R.C.</td>\n",
              "      <td>Medium-Light</td>\n",
              "      <td>Hong Kong</td>\n",
              "      <td>Africa</td>\n",
              "      <td>Asia Pacific</td>\n",
              "      <td>9.05</td>\n",
              "      <td>94</td>\n",
              "      <td>November 2017</td>\n",
              "      <td>Evaluated as espresso. Sweetly tart, floral-to...</td>\n",
              "      <td>NaN</td>\n",
              "      <td>NaN</td>\n",
              "    </tr>\n",
              "    <tr>\n",
              "      <th>2</th>\n",
              "      <td>Ethiopia Shakiso Mormora</td>\n",
              "      <td>Revel Coffee</td>\n",
              "      <td>Medium-Light</td>\n",
              "      <td>United States</td>\n",
              "      <td>Guji Zone</td>\n",
              "      <td>Southern Ethiopia</td>\n",
              "      <td>4.70</td>\n",
              "      <td>92</td>\n",
              "      <td>November 2017</td>\n",
              "      <td>Crisply sweet, cocoa-toned. Lemon blossom, roa...</td>\n",
              "      <td>NaN</td>\n",
              "      <td>NaN</td>\n",
              "    </tr>\n",
              "    <tr>\n",
              "      <th>3</th>\n",
              "      <td>Ethiopia Suke Quto</td>\n",
              "      <td>Roast House</td>\n",
              "      <td>Medium-Light</td>\n",
              "      <td>United States</td>\n",
              "      <td>Guji Zone</td>\n",
              "      <td>Oromia Region</td>\n",
              "      <td>4.19</td>\n",
              "      <td>92</td>\n",
              "      <td>November 2017</td>\n",
              "      <td>Delicate, sweetly spice-toned. Pink peppercorn...</td>\n",
              "      <td>NaN</td>\n",
              "      <td>NaN</td>\n",
              "    </tr>\n",
              "    <tr>\n",
              "      <th>4</th>\n",
              "      <td>Ethiopia Gedeb Halo Beriti</td>\n",
              "      <td>Big Creek Coffee Roasters</td>\n",
              "      <td>Medium</td>\n",
              "      <td>United States</td>\n",
              "      <td>Gedeb District</td>\n",
              "      <td>Gedeo Zone</td>\n",
              "      <td>4.85</td>\n",
              "      <td>94</td>\n",
              "      <td>November 2017</td>\n",
              "      <td>Deeply sweet, subtly pungent. Honey, pear, tan...</td>\n",
              "      <td>NaN</td>\n",
              "      <td>NaN</td>\n",
              "    </tr>\n",
              "    <tr>\n",
              "      <th>...</th>\n",
              "      <td>...</td>\n",
              "      <td>...</td>\n",
              "      <td>...</td>\n",
              "      <td>...</td>\n",
              "      <td>...</td>\n",
              "      <td>...</td>\n",
              "      <td>...</td>\n",
              "      <td>...</td>\n",
              "      <td>...</td>\n",
              "      <td>...</td>\n",
              "      <td>...</td>\n",
              "      <td>...</td>\n",
              "    </tr>\n",
              "    <tr>\n",
              "      <th>2086</th>\n",
              "      <td>Finca Patzibir</td>\n",
              "      <td>El Gran Cafe</td>\n",
              "      <td>Medium-Light</td>\n",
              "      <td>Guatemala</td>\n",
              "      <td>Lake Atitlán Growing Region</td>\n",
              "      <td>Guatemala</td>\n",
              "      <td>4.70</td>\n",
              "      <td>92</td>\n",
              "      <td>November 2022</td>\n",
              "      <td>Crisply sweet, nut-toned. Almond brittle, pie ...</td>\n",
              "      <td>NaN</td>\n",
              "      <td>NaN</td>\n",
              "    </tr>\n",
              "    <tr>\n",
              "      <th>2087</th>\n",
              "      <td>Proyecto Aurora</td>\n",
              "      <td>El Gran Cafe</td>\n",
              "      <td>Medium-Light</td>\n",
              "      <td>Guatemala</td>\n",
              "      <td>Antigua Growing Region</td>\n",
              "      <td>Guatemala</td>\n",
              "      <td>2.94</td>\n",
              "      <td>93</td>\n",
              "      <td>November 2022</td>\n",
              "      <td>Chocolaty, floral-framed. Cocoa nib, honeysuck...</td>\n",
              "      <td>NaN</td>\n",
              "      <td>NaN</td>\n",
              "    </tr>\n",
              "    <tr>\n",
              "      <th>2088</th>\n",
              "      <td>Finca El Potrero</td>\n",
              "      <td>El Gran Cafe</td>\n",
              "      <td>Medium-Light</td>\n",
              "      <td>Guatemala</td>\n",
              "      <td>Antigua Growing Region</td>\n",
              "      <td>Guatemala</td>\n",
              "      <td>2.94</td>\n",
              "      <td>93</td>\n",
              "      <td>November 2022</td>\n",
              "      <td>High-toned, enticingly sweet. Black cherry, na...</td>\n",
              "      <td>NaN</td>\n",
              "      <td>NaN</td>\n",
              "    </tr>\n",
              "    <tr>\n",
              "      <th>2089</th>\n",
              "      <td>Chacayá Santiago Atitlán</td>\n",
              "      <td>El Gran Cafe</td>\n",
              "      <td>Medium-Light</td>\n",
              "      <td>Guatemala</td>\n",
              "      <td>Lake Atitlán Growing Region</td>\n",
              "      <td>Guatemala</td>\n",
              "      <td>4.70</td>\n",
              "      <td>93</td>\n",
              "      <td>November 2022</td>\n",
              "      <td>Vibrantly sweet, subtly nuanced. Apricot, dar...</td>\n",
              "      <td>NaN</td>\n",
              "      <td>NaN</td>\n",
              "    </tr>\n",
              "    <tr>\n",
              "      <th>2090</th>\n",
              "      <td>Espresso No. a</td>\n",
              "      <td>El Gran Cafe</td>\n",
              "      <td>Medium-Light</td>\n",
              "      <td>Guatemala</td>\n",
              "      <td>Antigua Growing Region</td>\n",
              "      <td>Guatemala</td>\n",
              "      <td>5.88</td>\n",
              "      <td>94</td>\n",
              "      <td>November 2022</td>\n",
              "      <td>Evaluated as espresso. Multi-layered, complex....</td>\n",
              "      <td>NaN</td>\n",
              "      <td>NaN</td>\n",
              "    </tr>\n",
              "  </tbody>\n",
              "</table>\n",
              "<p>2091 rows × 12 columns</p>\n",
              "</div>\n",
              "      <button class=\"colab-df-convert\" onclick=\"convertToInteractive('df-02fb0b85-7033-4333-bb59-5c66fc2335a3')\"\n",
              "              title=\"Convert this dataframe to an interactive table.\"\n",
              "              style=\"display:none;\">\n",
              "        \n",
              "  <svg xmlns=\"http://www.w3.org/2000/svg\" height=\"24px\"viewBox=\"0 0 24 24\"\n",
              "       width=\"24px\">\n",
              "    <path d=\"M0 0h24v24H0V0z\" fill=\"none\"/>\n",
              "    <path d=\"M18.56 5.44l.94 2.06.94-2.06 2.06-.94-2.06-.94-.94-2.06-.94 2.06-2.06.94zm-11 1L8.5 8.5l.94-2.06 2.06-.94-2.06-.94L8.5 2.5l-.94 2.06-2.06.94zm10 10l.94 2.06.94-2.06 2.06-.94-2.06-.94-.94-2.06-.94 2.06-2.06.94z\"/><path d=\"M17.41 7.96l-1.37-1.37c-.4-.4-.92-.59-1.43-.59-.52 0-1.04.2-1.43.59L10.3 9.45l-7.72 7.72c-.78.78-.78 2.05 0 2.83L4 21.41c.39.39.9.59 1.41.59.51 0 1.02-.2 1.41-.59l7.78-7.78 2.81-2.81c.8-.78.8-2.07 0-2.86zM5.41 20L4 18.59l7.72-7.72 1.47 1.35L5.41 20z\"/>\n",
              "  </svg>\n",
              "      </button>\n",
              "      \n",
              "  <style>\n",
              "    .colab-df-container {\n",
              "      display:flex;\n",
              "      flex-wrap:wrap;\n",
              "      gap: 12px;\n",
              "    }\n",
              "\n",
              "    .colab-df-convert {\n",
              "      background-color: #E8F0FE;\n",
              "      border: none;\n",
              "      border-radius: 50%;\n",
              "      cursor: pointer;\n",
              "      display: none;\n",
              "      fill: #1967D2;\n",
              "      height: 32px;\n",
              "      padding: 0 0 0 0;\n",
              "      width: 32px;\n",
              "    }\n",
              "\n",
              "    .colab-df-convert:hover {\n",
              "      background-color: #E2EBFA;\n",
              "      box-shadow: 0px 1px 2px rgba(60, 64, 67, 0.3), 0px 1px 3px 1px rgba(60, 64, 67, 0.15);\n",
              "      fill: #174EA6;\n",
              "    }\n",
              "\n",
              "    [theme=dark] .colab-df-convert {\n",
              "      background-color: #3B4455;\n",
              "      fill: #D2E3FC;\n",
              "    }\n",
              "\n",
              "    [theme=dark] .colab-df-convert:hover {\n",
              "      background-color: #434B5C;\n",
              "      box-shadow: 0px 1px 3px 1px rgba(0, 0, 0, 0.15);\n",
              "      filter: drop-shadow(0px 1px 2px rgba(0, 0, 0, 0.3));\n",
              "      fill: #FFFFFF;\n",
              "    }\n",
              "  </style>\n",
              "\n",
              "      <script>\n",
              "        const buttonEl =\n",
              "          document.querySelector('#df-02fb0b85-7033-4333-bb59-5c66fc2335a3 button.colab-df-convert');\n",
              "        buttonEl.style.display =\n",
              "          google.colab.kernel.accessAllowed ? 'block' : 'none';\n",
              "\n",
              "        async function convertToInteractive(key) {\n",
              "          const element = document.querySelector('#df-02fb0b85-7033-4333-bb59-5c66fc2335a3');\n",
              "          const dataTable =\n",
              "            await google.colab.kernel.invokeFunction('convertToInteractive',\n",
              "                                                     [key], {});\n",
              "          if (!dataTable) return;\n",
              "\n",
              "          const docLinkHtml = 'Like what you see? Visit the ' +\n",
              "            '<a target=\"_blank\" href=https://colab.research.google.com/notebooks/data_table.ipynb>data table notebook</a>'\n",
              "            + ' to learn more about interactive tables.';\n",
              "          element.innerHTML = '';\n",
              "          dataTable['output_type'] = 'display_data';\n",
              "          await google.colab.output.renderOutput(dataTable, element);\n",
              "          const docLink = document.createElement('div');\n",
              "          docLink.innerHTML = docLinkHtml;\n",
              "          element.appendChild(docLink);\n",
              "        }\n",
              "      </script>\n",
              "    </div>\n",
              "  </div>\n",
              "  "
            ]
          },
          "metadata": {},
          "execution_count": 246
        }
      ],
      "source": [
        "df"
      ]
    },
    {
      "cell_type": "code",
      "execution_count": null,
      "metadata": {
        "id": "mpmzWcvsFlWj",
        "colab": {
          "base_uri": "https://localhost:8080/",
          "height": 423
        },
        "outputId": "50b81c92-9540-4a73-9fd6-8fcbeae8bf92"
      },
      "outputs": [
        {
          "output_type": "execute_result",
          "data": {
            "text/plain": [
              "        loc_country  rating                                             desc_1\n",
              "0         Hong Kong      95  Evaluated as espresso. Sweet-toned, deeply ric...\n",
              "1         Hong Kong      94  Evaluated as espresso. Sweetly tart, floral-to...\n",
              "2     United States      92  Crisply sweet, cocoa-toned. Lemon blossom, roa...\n",
              "3     United States      92  Delicate, sweetly spice-toned. Pink peppercorn...\n",
              "4     United States      94  Deeply sweet, subtly pungent. Honey, pear, tan...\n",
              "...             ...     ...                                                ...\n",
              "2086      Guatemala      92  Crisply sweet, nut-toned. Almond brittle, pie ...\n",
              "2087      Guatemala      93  Chocolaty, floral-framed. Cocoa nib, honeysuck...\n",
              "2088      Guatemala      93  High-toned, enticingly sweet. Black cherry, na...\n",
              "2089      Guatemala      93   Vibrantly sweet, subtly nuanced. Apricot, dar...\n",
              "2090      Guatemala      94  Evaluated as espresso. Multi-layered, complex....\n",
              "\n",
              "[2091 rows x 3 columns]"
            ],
            "text/html": [
              "\n",
              "  <div id=\"df-2b5c6fa1-ccb0-4b6b-b174-fab772de27be\">\n",
              "    <div class=\"colab-df-container\">\n",
              "      <div>\n",
              "<style scoped>\n",
              "    .dataframe tbody tr th:only-of-type {\n",
              "        vertical-align: middle;\n",
              "    }\n",
              "\n",
              "    .dataframe tbody tr th {\n",
              "        vertical-align: top;\n",
              "    }\n",
              "\n",
              "    .dataframe thead th {\n",
              "        text-align: right;\n",
              "    }\n",
              "</style>\n",
              "<table border=\"1\" class=\"dataframe\">\n",
              "  <thead>\n",
              "    <tr style=\"text-align: right;\">\n",
              "      <th></th>\n",
              "      <th>loc_country</th>\n",
              "      <th>rating</th>\n",
              "      <th>desc_1</th>\n",
              "    </tr>\n",
              "  </thead>\n",
              "  <tbody>\n",
              "    <tr>\n",
              "      <th>0</th>\n",
              "      <td>Hong Kong</td>\n",
              "      <td>95</td>\n",
              "      <td>Evaluated as espresso. Sweet-toned, deeply ric...</td>\n",
              "    </tr>\n",
              "    <tr>\n",
              "      <th>1</th>\n",
              "      <td>Hong Kong</td>\n",
              "      <td>94</td>\n",
              "      <td>Evaluated as espresso. Sweetly tart, floral-to...</td>\n",
              "    </tr>\n",
              "    <tr>\n",
              "      <th>2</th>\n",
              "      <td>United States</td>\n",
              "      <td>92</td>\n",
              "      <td>Crisply sweet, cocoa-toned. Lemon blossom, roa...</td>\n",
              "    </tr>\n",
              "    <tr>\n",
              "      <th>3</th>\n",
              "      <td>United States</td>\n",
              "      <td>92</td>\n",
              "      <td>Delicate, sweetly spice-toned. Pink peppercorn...</td>\n",
              "    </tr>\n",
              "    <tr>\n",
              "      <th>4</th>\n",
              "      <td>United States</td>\n",
              "      <td>94</td>\n",
              "      <td>Deeply sweet, subtly pungent. Honey, pear, tan...</td>\n",
              "    </tr>\n",
              "    <tr>\n",
              "      <th>...</th>\n",
              "      <td>...</td>\n",
              "      <td>...</td>\n",
              "      <td>...</td>\n",
              "    </tr>\n",
              "    <tr>\n",
              "      <th>2086</th>\n",
              "      <td>Guatemala</td>\n",
              "      <td>92</td>\n",
              "      <td>Crisply sweet, nut-toned. Almond brittle, pie ...</td>\n",
              "    </tr>\n",
              "    <tr>\n",
              "      <th>2087</th>\n",
              "      <td>Guatemala</td>\n",
              "      <td>93</td>\n",
              "      <td>Chocolaty, floral-framed. Cocoa nib, honeysuck...</td>\n",
              "    </tr>\n",
              "    <tr>\n",
              "      <th>2088</th>\n",
              "      <td>Guatemala</td>\n",
              "      <td>93</td>\n",
              "      <td>High-toned, enticingly sweet. Black cherry, na...</td>\n",
              "    </tr>\n",
              "    <tr>\n",
              "      <th>2089</th>\n",
              "      <td>Guatemala</td>\n",
              "      <td>93</td>\n",
              "      <td>Vibrantly sweet, subtly nuanced. Apricot, dar...</td>\n",
              "    </tr>\n",
              "    <tr>\n",
              "      <th>2090</th>\n",
              "      <td>Guatemala</td>\n",
              "      <td>94</td>\n",
              "      <td>Evaluated as espresso. Multi-layered, complex....</td>\n",
              "    </tr>\n",
              "  </tbody>\n",
              "</table>\n",
              "<p>2091 rows × 3 columns</p>\n",
              "</div>\n",
              "      <button class=\"colab-df-convert\" onclick=\"convertToInteractive('df-2b5c6fa1-ccb0-4b6b-b174-fab772de27be')\"\n",
              "              title=\"Convert this dataframe to an interactive table.\"\n",
              "              style=\"display:none;\">\n",
              "        \n",
              "  <svg xmlns=\"http://www.w3.org/2000/svg\" height=\"24px\"viewBox=\"0 0 24 24\"\n",
              "       width=\"24px\">\n",
              "    <path d=\"M0 0h24v24H0V0z\" fill=\"none\"/>\n",
              "    <path d=\"M18.56 5.44l.94 2.06.94-2.06 2.06-.94-2.06-.94-.94-2.06-.94 2.06-2.06.94zm-11 1L8.5 8.5l.94-2.06 2.06-.94-2.06-.94L8.5 2.5l-.94 2.06-2.06.94zm10 10l.94 2.06.94-2.06 2.06-.94-2.06-.94-.94-2.06-.94 2.06-2.06.94z\"/><path d=\"M17.41 7.96l-1.37-1.37c-.4-.4-.92-.59-1.43-.59-.52 0-1.04.2-1.43.59L10.3 9.45l-7.72 7.72c-.78.78-.78 2.05 0 2.83L4 21.41c.39.39.9.59 1.41.59.51 0 1.02-.2 1.41-.59l7.78-7.78 2.81-2.81c.8-.78.8-2.07 0-2.86zM5.41 20L4 18.59l7.72-7.72 1.47 1.35L5.41 20z\"/>\n",
              "  </svg>\n",
              "      </button>\n",
              "      \n",
              "  <style>\n",
              "    .colab-df-container {\n",
              "      display:flex;\n",
              "      flex-wrap:wrap;\n",
              "      gap: 12px;\n",
              "    }\n",
              "\n",
              "    .colab-df-convert {\n",
              "      background-color: #E8F0FE;\n",
              "      border: none;\n",
              "      border-radius: 50%;\n",
              "      cursor: pointer;\n",
              "      display: none;\n",
              "      fill: #1967D2;\n",
              "      height: 32px;\n",
              "      padding: 0 0 0 0;\n",
              "      width: 32px;\n",
              "    }\n",
              "\n",
              "    .colab-df-convert:hover {\n",
              "      background-color: #E2EBFA;\n",
              "      box-shadow: 0px 1px 2px rgba(60, 64, 67, 0.3), 0px 1px 3px 1px rgba(60, 64, 67, 0.15);\n",
              "      fill: #174EA6;\n",
              "    }\n",
              "\n",
              "    [theme=dark] .colab-df-convert {\n",
              "      background-color: #3B4455;\n",
              "      fill: #D2E3FC;\n",
              "    }\n",
              "\n",
              "    [theme=dark] .colab-df-convert:hover {\n",
              "      background-color: #434B5C;\n",
              "      box-shadow: 0px 1px 3px 1px rgba(0, 0, 0, 0.15);\n",
              "      filter: drop-shadow(0px 1px 2px rgba(0, 0, 0, 0.3));\n",
              "      fill: #FFFFFF;\n",
              "    }\n",
              "  </style>\n",
              "\n",
              "      <script>\n",
              "        const buttonEl =\n",
              "          document.querySelector('#df-2b5c6fa1-ccb0-4b6b-b174-fab772de27be button.colab-df-convert');\n",
              "        buttonEl.style.display =\n",
              "          google.colab.kernel.accessAllowed ? 'block' : 'none';\n",
              "\n",
              "        async function convertToInteractive(key) {\n",
              "          const element = document.querySelector('#df-2b5c6fa1-ccb0-4b6b-b174-fab772de27be');\n",
              "          const dataTable =\n",
              "            await google.colab.kernel.invokeFunction('convertToInteractive',\n",
              "                                                     [key], {});\n",
              "          if (!dataTable) return;\n",
              "\n",
              "          const docLinkHtml = 'Like what you see? Visit the ' +\n",
              "            '<a target=\"_blank\" href=https://colab.research.google.com/notebooks/data_table.ipynb>data table notebook</a>'\n",
              "            + ' to learn more about interactive tables.';\n",
              "          element.innerHTML = '';\n",
              "          dataTable['output_type'] = 'display_data';\n",
              "          await google.colab.output.renderOutput(dataTable, element);\n",
              "          const docLink = document.createElement('div');\n",
              "          docLink.innerHTML = docLinkHtml;\n",
              "          element.appendChild(docLink);\n",
              "        }\n",
              "      </script>\n",
              "    </div>\n",
              "  </div>\n",
              "  "
            ]
          },
          "metadata": {},
          "execution_count": 247
        }
      ],
      "source": [
        "df_nueva = df[['loc_country', 'rating', 'desc_1']]\n",
        "df_nueva"
      ]
    },
    {
      "cell_type": "code",
      "execution_count": null,
      "metadata": {
        "id": "dhxO7p0UGfMt",
        "colab": {
          "base_uri": "https://localhost:8080/",
          "height": 423
        },
        "outputId": "e4a4643b-2d22-49f9-e6bf-1a84cd05d69c"
      },
      "outputs": [
        {
          "output_type": "execute_result",
          "data": {
            "text/plain": [
              "        loc_country  rating  \\\n",
              "0         Hong Kong      95   \n",
              "1         Hong Kong      94   \n",
              "2     United States      92   \n",
              "3     United States      92   \n",
              "4     United States      94   \n",
              "...             ...     ...   \n",
              "2086      Guatemala      92   \n",
              "2087      Guatemala      93   \n",
              "2088      Guatemala      93   \n",
              "2089      Guatemala      93   \n",
              "2090      Guatemala      94   \n",
              "\n",
              "                                                 desc_1  Label  \n",
              "0     Evaluated as espresso. Sweet-toned, deeply ric...      1  \n",
              "1     Evaluated as espresso. Sweetly tart, floral-to...      1  \n",
              "2     Crisply sweet, cocoa-toned. Lemon blossom, roa...      1  \n",
              "3     Delicate, sweetly spice-toned. Pink peppercorn...      1  \n",
              "4     Deeply sweet, subtly pungent. Honey, pear, tan...      1  \n",
              "...                                                 ...    ...  \n",
              "2086  Crisply sweet, nut-toned. Almond brittle, pie ...      1  \n",
              "2087  Chocolaty, floral-framed. Cocoa nib, honeysuck...      1  \n",
              "2088  High-toned, enticingly sweet. Black cherry, na...      1  \n",
              "2089   Vibrantly sweet, subtly nuanced. Apricot, dar...      1  \n",
              "2090  Evaluated as espresso. Multi-layered, complex....      1  \n",
              "\n",
              "[2091 rows x 4 columns]"
            ],
            "text/html": [
              "\n",
              "  <div id=\"df-191abae6-53d6-4dec-99d8-fd0bc8ecb3ad\">\n",
              "    <div class=\"colab-df-container\">\n",
              "      <div>\n",
              "<style scoped>\n",
              "    .dataframe tbody tr th:only-of-type {\n",
              "        vertical-align: middle;\n",
              "    }\n",
              "\n",
              "    .dataframe tbody tr th {\n",
              "        vertical-align: top;\n",
              "    }\n",
              "\n",
              "    .dataframe thead th {\n",
              "        text-align: right;\n",
              "    }\n",
              "</style>\n",
              "<table border=\"1\" class=\"dataframe\">\n",
              "  <thead>\n",
              "    <tr style=\"text-align: right;\">\n",
              "      <th></th>\n",
              "      <th>loc_country</th>\n",
              "      <th>rating</th>\n",
              "      <th>desc_1</th>\n",
              "      <th>Label</th>\n",
              "    </tr>\n",
              "  </thead>\n",
              "  <tbody>\n",
              "    <tr>\n",
              "      <th>0</th>\n",
              "      <td>Hong Kong</td>\n",
              "      <td>95</td>\n",
              "      <td>Evaluated as espresso. Sweet-toned, deeply ric...</td>\n",
              "      <td>1</td>\n",
              "    </tr>\n",
              "    <tr>\n",
              "      <th>1</th>\n",
              "      <td>Hong Kong</td>\n",
              "      <td>94</td>\n",
              "      <td>Evaluated as espresso. Sweetly tart, floral-to...</td>\n",
              "      <td>1</td>\n",
              "    </tr>\n",
              "    <tr>\n",
              "      <th>2</th>\n",
              "      <td>United States</td>\n",
              "      <td>92</td>\n",
              "      <td>Crisply sweet, cocoa-toned. Lemon blossom, roa...</td>\n",
              "      <td>1</td>\n",
              "    </tr>\n",
              "    <tr>\n",
              "      <th>3</th>\n",
              "      <td>United States</td>\n",
              "      <td>92</td>\n",
              "      <td>Delicate, sweetly spice-toned. Pink peppercorn...</td>\n",
              "      <td>1</td>\n",
              "    </tr>\n",
              "    <tr>\n",
              "      <th>4</th>\n",
              "      <td>United States</td>\n",
              "      <td>94</td>\n",
              "      <td>Deeply sweet, subtly pungent. Honey, pear, tan...</td>\n",
              "      <td>1</td>\n",
              "    </tr>\n",
              "    <tr>\n",
              "      <th>...</th>\n",
              "      <td>...</td>\n",
              "      <td>...</td>\n",
              "      <td>...</td>\n",
              "      <td>...</td>\n",
              "    </tr>\n",
              "    <tr>\n",
              "      <th>2086</th>\n",
              "      <td>Guatemala</td>\n",
              "      <td>92</td>\n",
              "      <td>Crisply sweet, nut-toned. Almond brittle, pie ...</td>\n",
              "      <td>1</td>\n",
              "    </tr>\n",
              "    <tr>\n",
              "      <th>2087</th>\n",
              "      <td>Guatemala</td>\n",
              "      <td>93</td>\n",
              "      <td>Chocolaty, floral-framed. Cocoa nib, honeysuck...</td>\n",
              "      <td>1</td>\n",
              "    </tr>\n",
              "    <tr>\n",
              "      <th>2088</th>\n",
              "      <td>Guatemala</td>\n",
              "      <td>93</td>\n",
              "      <td>High-toned, enticingly sweet. Black cherry, na...</td>\n",
              "      <td>1</td>\n",
              "    </tr>\n",
              "    <tr>\n",
              "      <th>2089</th>\n",
              "      <td>Guatemala</td>\n",
              "      <td>93</td>\n",
              "      <td>Vibrantly sweet, subtly nuanced. Apricot, dar...</td>\n",
              "      <td>1</td>\n",
              "    </tr>\n",
              "    <tr>\n",
              "      <th>2090</th>\n",
              "      <td>Guatemala</td>\n",
              "      <td>94</td>\n",
              "      <td>Evaluated as espresso. Multi-layered, complex....</td>\n",
              "      <td>1</td>\n",
              "    </tr>\n",
              "  </tbody>\n",
              "</table>\n",
              "<p>2091 rows × 4 columns</p>\n",
              "</div>\n",
              "      <button class=\"colab-df-convert\" onclick=\"convertToInteractive('df-191abae6-53d6-4dec-99d8-fd0bc8ecb3ad')\"\n",
              "              title=\"Convert this dataframe to an interactive table.\"\n",
              "              style=\"display:none;\">\n",
              "        \n",
              "  <svg xmlns=\"http://www.w3.org/2000/svg\" height=\"24px\"viewBox=\"0 0 24 24\"\n",
              "       width=\"24px\">\n",
              "    <path d=\"M0 0h24v24H0V0z\" fill=\"none\"/>\n",
              "    <path d=\"M18.56 5.44l.94 2.06.94-2.06 2.06-.94-2.06-.94-.94-2.06-.94 2.06-2.06.94zm-11 1L8.5 8.5l.94-2.06 2.06-.94-2.06-.94L8.5 2.5l-.94 2.06-2.06.94zm10 10l.94 2.06.94-2.06 2.06-.94-2.06-.94-.94-2.06-.94 2.06-2.06.94z\"/><path d=\"M17.41 7.96l-1.37-1.37c-.4-.4-.92-.59-1.43-.59-.52 0-1.04.2-1.43.59L10.3 9.45l-7.72 7.72c-.78.78-.78 2.05 0 2.83L4 21.41c.39.39.9.59 1.41.59.51 0 1.02-.2 1.41-.59l7.78-7.78 2.81-2.81c.8-.78.8-2.07 0-2.86zM5.41 20L4 18.59l7.72-7.72 1.47 1.35L5.41 20z\"/>\n",
              "  </svg>\n",
              "      </button>\n",
              "      \n",
              "  <style>\n",
              "    .colab-df-container {\n",
              "      display:flex;\n",
              "      flex-wrap:wrap;\n",
              "      gap: 12px;\n",
              "    }\n",
              "\n",
              "    .colab-df-convert {\n",
              "      background-color: #E8F0FE;\n",
              "      border: none;\n",
              "      border-radius: 50%;\n",
              "      cursor: pointer;\n",
              "      display: none;\n",
              "      fill: #1967D2;\n",
              "      height: 32px;\n",
              "      padding: 0 0 0 0;\n",
              "      width: 32px;\n",
              "    }\n",
              "\n",
              "    .colab-df-convert:hover {\n",
              "      background-color: #E2EBFA;\n",
              "      box-shadow: 0px 1px 2px rgba(60, 64, 67, 0.3), 0px 1px 3px 1px rgba(60, 64, 67, 0.15);\n",
              "      fill: #174EA6;\n",
              "    }\n",
              "\n",
              "    [theme=dark] .colab-df-convert {\n",
              "      background-color: #3B4455;\n",
              "      fill: #D2E3FC;\n",
              "    }\n",
              "\n",
              "    [theme=dark] .colab-df-convert:hover {\n",
              "      background-color: #434B5C;\n",
              "      box-shadow: 0px 1px 3px 1px rgba(0, 0, 0, 0.15);\n",
              "      filter: drop-shadow(0px 1px 2px rgba(0, 0, 0, 0.3));\n",
              "      fill: #FFFFFF;\n",
              "    }\n",
              "  </style>\n",
              "\n",
              "      <script>\n",
              "        const buttonEl =\n",
              "          document.querySelector('#df-191abae6-53d6-4dec-99d8-fd0bc8ecb3ad button.colab-df-convert');\n",
              "        buttonEl.style.display =\n",
              "          google.colab.kernel.accessAllowed ? 'block' : 'none';\n",
              "\n",
              "        async function convertToInteractive(key) {\n",
              "          const element = document.querySelector('#df-191abae6-53d6-4dec-99d8-fd0bc8ecb3ad');\n",
              "          const dataTable =\n",
              "            await google.colab.kernel.invokeFunction('convertToInteractive',\n",
              "                                                     [key], {});\n",
              "          if (!dataTable) return;\n",
              "\n",
              "          const docLinkHtml = 'Like what you see? Visit the ' +\n",
              "            '<a target=\"_blank\" href=https://colab.research.google.com/notebooks/data_table.ipynb>data table notebook</a>'\n",
              "            + ' to learn more about interactive tables.';\n",
              "          element.innerHTML = '';\n",
              "          dataTable['output_type'] = 'display_data';\n",
              "          await google.colab.output.renderOutput(dataTable, element);\n",
              "          const docLink = document.createElement('div');\n",
              "          docLink.innerHTML = docLinkHtml;\n",
              "          element.appendChild(docLink);\n",
              "        }\n",
              "      </script>\n",
              "    </div>\n",
              "  </div>\n",
              "  "
            ]
          },
          "metadata": {},
          "execution_count": 248
        }
      ],
      "source": [
        "# create labels \n",
        "label = []\n",
        "for i in df_nueva.rating:\n",
        "    if i > 90:\n",
        "        label.append(1) # positive \n",
        "    else:\n",
        "        label.append(0) # negative\n",
        "df_nueva[\"Label\"] = label\n",
        "df_nueva  "
      ]
    },
    {
      "cell_type": "code",
      "source": [
        "df_nueva.desc_1.iloc(0)"
      ],
      "metadata": {
        "colab": {
          "base_uri": "https://localhost:8080/"
        },
        "id": "isJQY7u3qSXj",
        "outputId": "18ea75d6-c974-4ffe-98b7-b12984476533"
      },
      "execution_count": null,
      "outputs": [
        {
          "output_type": "execute_result",
          "data": {
            "text/plain": [
              "<pandas.core.indexing._iLocIndexer at 0x7ff782d49130>"
            ]
          },
          "metadata": {},
          "execution_count": 249
        }
      ]
    },
    {
      "cell_type": "code",
      "source": [
        "df_nueva.Label.value_counts()"
      ],
      "metadata": {
        "colab": {
          "base_uri": "https://localhost:8080/"
        },
        "id": "CeUf47T5qxmZ",
        "outputId": "6ca2ec5a-e5f8-40be-db99-5501de9329f2"
      },
      "execution_count": null,
      "outputs": [
        {
          "output_type": "execute_result",
          "data": {
            "text/plain": [
              "1    1967\n",
              "0     124\n",
              "Name: Label, dtype: int64"
            ]
          },
          "metadata": {},
          "execution_count": 250
        }
      ]
    },
    {
      "cell_type": "code",
      "execution_count": null,
      "metadata": {
        "id": "FQWQobIiI3lL",
        "colab": {
          "base_uri": "https://localhost:8080/"
        },
        "outputId": "8a7a7a54-a6c6-4d8d-e2c8-b7109fca5df2"
      },
      "outputs": [
        {
          "output_type": "stream",
          "name": "stdout",
          "text": [
            "Train data: (1463,) (1463,)\n",
            "Test data: (628,) (628,)\n"
          ]
        }
      ],
      "source": [
        "data = df_nueva['desc_1']\n",
        "y = df_nueva['Label']\n",
        "\n",
        "X_train, X_test, y_train, y_test = train_test_split(data, y, test_size=0.3, stratify=y, random_state = 124)\n",
        "\n",
        "print(\"Train data:\",  X_train.shape, y_train.shape)\n",
        "print(\"Test data:\",  X_test.shape, y_test.shape)"
      ]
    },
    {
      "cell_type": "code",
      "execution_count": null,
      "metadata": {
        "id": "kGwMZRlmfmjM",
        "colab": {
          "base_uri": "https://localhost:8080/"
        },
        "outputId": "3a9057ff-bf4d-432f-dceb-b6317bf1812b"
      },
      "outputs": [
        {
          "output_type": "stream",
          "name": "stdout",
          "text": [
            "Train data: (2752,) (2752,)\n",
            "Test data: (628,) (628,)\n"
          ]
        }
      ],
      "source": [
        "# Upsampling for training\n",
        "train = pd.DataFrame({'desc_1':X_train, 'Label':y_train})\n",
        "#Count 1s and 0s\n",
        "ones = len(train.loc[train['Label'] == 1])\n",
        "zeros = len(train.loc[train['Label'] == 0])\n",
        "if ones >= zeros:\n",
        "    majority = 1\n",
        "    minority = 0\n",
        "else:\n",
        "    majority = 0\n",
        "    minority = 1\n",
        "    \n",
        "# Upsample TrainingSet\n",
        "train_majority = train[train.Label==majority]\n",
        "train_minority = train[train.Label==minority]\n",
        "\n",
        "# Upsample minority class\n",
        "train_minority_upsampled = resample(train_minority, \n",
        "                                 replace=True,     # sample with replacement\n",
        "                                 n_samples=len(train_majority),    # to match majority class\n",
        "                                 random_state=42) # reproducible results\n",
        "\n",
        "# Combine majority class with upsampled minority class\n",
        "train = pd.concat([train_majority, train_minority_upsampled])\n",
        "X_train = train['desc_1']\n",
        "y_train = train['Label']\n",
        "print(\"Train data:\",  X_train.shape, y_train.shape)\n",
        "print(\"Test data:\",  X_test.shape, y_test.shape)"
      ]
    },
    {
      "cell_type": "markdown",
      "source": [
        "#*Steps* 3: Modelo"
      ],
      "metadata": {
        "id": "mwoZIV_Y2n_y"
      }
    },
    {
      "cell_type": "code",
      "source": [
        "from transformers import pipeline"
      ],
      "metadata": {
        "id": "d75l_uDxuWuF"
      },
      "execution_count": null,
      "outputs": []
    },
    {
      "cell_type": "code",
      "execution_count": null,
      "metadata": {
        "id": "5uw_hiXIfqhw"
      },
      "outputs": [],
      "source": [
        "# load the model classifier \n",
        "model_pipline = 'distilbert-base-uncased-finetuned-sst-2-english' \n",
        "classifier = pipeline('sentiment-analysis', model_pipline)"
      ]
    },
    {
      "cell_type": "code",
      "source": [
        "classifier"
      ],
      "metadata": {
        "colab": {
          "base_uri": "https://localhost:8080/"
        },
        "id": "BYpt9Wzzxwlu",
        "outputId": "49effba6-e966-4fc4-ca92-8c6dbb8ec6c0"
      },
      "execution_count": null,
      "outputs": [
        {
          "output_type": "execute_result",
          "data": {
            "text/plain": [
              "<transformers.pipelines.text_classification.TextClassificationPipeline at 0x7ff78e705310>"
            ]
          },
          "metadata": {},
          "execution_count": 255
        }
      ]
    },
    {
      "cell_type": "code",
      "source": [
        "classifier(\"Good coffe\")"
      ],
      "metadata": {
        "colab": {
          "base_uri": "https://localhost:8080/"
        },
        "id": "8nBpH8l6xy7H",
        "outputId": "d86e88e9-2d74-4420-d38a-6882b59cd716"
      },
      "execution_count": null,
      "outputs": [
        {
          "output_type": "execute_result",
          "data": {
            "text/plain": [
              "[{'label': 'POSITIVE', 'score': 0.9998204112052917}]"
            ]
          },
          "metadata": {},
          "execution_count": 256
        }
      ]
    },
    {
      "cell_type": "code",
      "execution_count": null,
      "metadata": {
        "id": "IQrDWC_ifsGQ"
      },
      "outputs": [],
      "source": [
        "# take time (1 minute aprox)\n",
        "max_length = 512 \n",
        "Label_pred = []\n",
        "rating_pred = []\n",
        "for i in X_test: \n",
        "    results = classifier(i[0:max_length])\n",
        "    Label_pred.append(results[0]['label'])\n",
        "    rating_pred.append(results[0]['score'])"
      ]
    },
    {
      "cell_type": "code",
      "execution_count": null,
      "metadata": {
        "id": "njAo_hkuftlQ"
      },
      "outputs": [],
      "source": [
        "# change format of labels prediction, from text to numbers\n",
        "y_pred = [1 if i=='POSITIVE' else 0 for i in Label_pred]"
      ]
    },
    {
      "cell_type": "markdown",
      "source": [
        "#Steps 4: Resultados"
      ],
      "metadata": {
        "id": "5ve1_2Wr2wHc"
      }
    },
    {
      "cell_type": "code",
      "execution_count": null,
      "metadata": {
        "id": "Pfz9kYE9fvWg"
      },
      "outputs": [],
      "source": [
        "# get metrics\n",
        "y = y_test.tolist()\n",
        "metrics1 = metrics_report(y, y_pred)\n",
        "p1 = metrics1[0]\n",
        "r1 = metrics1[1]\n",
        "f1 = metrics1[2]\n",
        "ac1 = metrics1[3]"
      ]
    },
    {
      "cell_type": "code",
      "execution_count": null,
      "metadata": {
        "id": "6D0L9i4MfwoU",
        "colab": {
          "base_uri": "https://localhost:8080/",
          "height": 80
        },
        "outputId": "172ebccd-f39f-4644-a380-eca0e0d91c11"
      },
      "outputs": [
        {
          "output_type": "execute_result",
          "data": {
            "text/plain": [
              "        Model  Precision  Recall        F1  Accuracy\n",
              "0  distilbert   0.941083     1.0  0.969647  0.941083"
            ],
            "text/html": [
              "\n",
              "  <div id=\"df-9a115b7d-4b06-4847-85b2-af9a4bd8121a\">\n",
              "    <div class=\"colab-df-container\">\n",
              "      <div>\n",
              "<style scoped>\n",
              "    .dataframe tbody tr th:only-of-type {\n",
              "        vertical-align: middle;\n",
              "    }\n",
              "\n",
              "    .dataframe tbody tr th {\n",
              "        vertical-align: top;\n",
              "    }\n",
              "\n",
              "    .dataframe thead th {\n",
              "        text-align: right;\n",
              "    }\n",
              "</style>\n",
              "<table border=\"1\" class=\"dataframe\">\n",
              "  <thead>\n",
              "    <tr style=\"text-align: right;\">\n",
              "      <th></th>\n",
              "      <th>Model</th>\n",
              "      <th>Precision</th>\n",
              "      <th>Recall</th>\n",
              "      <th>F1</th>\n",
              "      <th>Accuracy</th>\n",
              "    </tr>\n",
              "  </thead>\n",
              "  <tbody>\n",
              "    <tr>\n",
              "      <th>0</th>\n",
              "      <td>distilbert</td>\n",
              "      <td>0.941083</td>\n",
              "      <td>1.0</td>\n",
              "      <td>0.969647</td>\n",
              "      <td>0.941083</td>\n",
              "    </tr>\n",
              "  </tbody>\n",
              "</table>\n",
              "</div>\n",
              "      <button class=\"colab-df-convert\" onclick=\"convertToInteractive('df-9a115b7d-4b06-4847-85b2-af9a4bd8121a')\"\n",
              "              title=\"Convert this dataframe to an interactive table.\"\n",
              "              style=\"display:none;\">\n",
              "        \n",
              "  <svg xmlns=\"http://www.w3.org/2000/svg\" height=\"24px\"viewBox=\"0 0 24 24\"\n",
              "       width=\"24px\">\n",
              "    <path d=\"M0 0h24v24H0V0z\" fill=\"none\"/>\n",
              "    <path d=\"M18.56 5.44l.94 2.06.94-2.06 2.06-.94-2.06-.94-.94-2.06-.94 2.06-2.06.94zm-11 1L8.5 8.5l.94-2.06 2.06-.94-2.06-.94L8.5 2.5l-.94 2.06-2.06.94zm10 10l.94 2.06.94-2.06 2.06-.94-2.06-.94-.94-2.06-.94 2.06-2.06.94z\"/><path d=\"M17.41 7.96l-1.37-1.37c-.4-.4-.92-.59-1.43-.59-.52 0-1.04.2-1.43.59L10.3 9.45l-7.72 7.72c-.78.78-.78 2.05 0 2.83L4 21.41c.39.39.9.59 1.41.59.51 0 1.02-.2 1.41-.59l7.78-7.78 2.81-2.81c.8-.78.8-2.07 0-2.86zM5.41 20L4 18.59l7.72-7.72 1.47 1.35L5.41 20z\"/>\n",
              "  </svg>\n",
              "      </button>\n",
              "      \n",
              "  <style>\n",
              "    .colab-df-container {\n",
              "      display:flex;\n",
              "      flex-wrap:wrap;\n",
              "      gap: 12px;\n",
              "    }\n",
              "\n",
              "    .colab-df-convert {\n",
              "      background-color: #E8F0FE;\n",
              "      border: none;\n",
              "      border-radius: 50%;\n",
              "      cursor: pointer;\n",
              "      display: none;\n",
              "      fill: #1967D2;\n",
              "      height: 32px;\n",
              "      padding: 0 0 0 0;\n",
              "      width: 32px;\n",
              "    }\n",
              "\n",
              "    .colab-df-convert:hover {\n",
              "      background-color: #E2EBFA;\n",
              "      box-shadow: 0px 1px 2px rgba(60, 64, 67, 0.3), 0px 1px 3px 1px rgba(60, 64, 67, 0.15);\n",
              "      fill: #174EA6;\n",
              "    }\n",
              "\n",
              "    [theme=dark] .colab-df-convert {\n",
              "      background-color: #3B4455;\n",
              "      fill: #D2E3FC;\n",
              "    }\n",
              "\n",
              "    [theme=dark] .colab-df-convert:hover {\n",
              "      background-color: #434B5C;\n",
              "      box-shadow: 0px 1px 3px 1px rgba(0, 0, 0, 0.15);\n",
              "      filter: drop-shadow(0px 1px 2px rgba(0, 0, 0, 0.3));\n",
              "      fill: #FFFFFF;\n",
              "    }\n",
              "  </style>\n",
              "\n",
              "      <script>\n",
              "        const buttonEl =\n",
              "          document.querySelector('#df-9a115b7d-4b06-4847-85b2-af9a4bd8121a button.colab-df-convert');\n",
              "        buttonEl.style.display =\n",
              "          google.colab.kernel.accessAllowed ? 'block' : 'none';\n",
              "\n",
              "        async function convertToInteractive(key) {\n",
              "          const element = document.querySelector('#df-9a115b7d-4b06-4847-85b2-af9a4bd8121a');\n",
              "          const dataTable =\n",
              "            await google.colab.kernel.invokeFunction('convertToInteractive',\n",
              "                                                     [key], {});\n",
              "          if (!dataTable) return;\n",
              "\n",
              "          const docLinkHtml = 'Like what you see? Visit the ' +\n",
              "            '<a target=\"_blank\" href=https://colab.research.google.com/notebooks/data_table.ipynb>data table notebook</a>'\n",
              "            + ' to learn more about interactive tables.';\n",
              "          element.innerHTML = '';\n",
              "          dataTable['output_type'] = 'display_data';\n",
              "          await google.colab.output.renderOutput(dataTable, element);\n",
              "          const docLink = document.createElement('div');\n",
              "          docLink.innerHTML = docLinkHtml;\n",
              "          element.appendChild(docLink);\n",
              "        }\n",
              "      </script>\n",
              "    </div>\n",
              "  </div>\n",
              "  "
            ]
          },
          "metadata": {},
          "execution_count": 260
        }
      ],
      "source": [
        "# print results\n",
        "m1 = model_pipline.split('-')[0]\n",
        "d = {'Model':[m1], 'Precision':[p1], 'Recall':[r1], 'F1':[f1], 'Accuracy':[ac1]}\n",
        "Bert1_results = pd.DataFrame(d)\n",
        "Bert1_results"
      ]
    }
  ],
  "metadata": {
    "colab": {
      "provenance": [],
      "include_colab_link": true
    },
    "kernelspec": {
      "display_name": "Python 3",
      "name": "python3"
    },
    "language_info": {
      "name": "python"
    }
  },
  "nbformat": 4,
  "nbformat_minor": 0
}