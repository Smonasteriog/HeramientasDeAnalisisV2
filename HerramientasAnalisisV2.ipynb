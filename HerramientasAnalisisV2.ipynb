{
  "cells": [
    {
      "cell_type": "markdown",
      "metadata": {
        "id": "6l1nqu4XPxjK"
      },
      "source": [
        "# Curso Erramientas de Analisis"
      ]
    },
    {
      "cell_type": "markdown",
      "metadata": {
        "id": "DGFzUKkHP2nw"
      },
      "source": [
        "## Unidad Uno"
      ]
    },
    {
      "cell_type": "markdown",
      "metadata": {
        "id": "pweZyWOYP9_Y"
      },
      "source": [
        "### Partiendo con Python"
      ]
    },
    {
      "cell_type": "code",
      "execution_count": null,
      "metadata": {
        "colab": {
          "base_uri": "https://localhost:8080/"
        },
        "id": "EYfj46ryKhAk",
        "outputId": "d44dcc1a-8411-4935-fb58-68b23757a955"
      },
      "outputs": [
        {
          "name": "stdout",
          "output_type": "stream",
          "text": [
            "la materia que se esta viendo actualmente en herramientas de analisis es python\n",
            "y el siguiente contenido del curso es sql\n"
          ]
        }
      ],
      "source": [
        "analisis_de_datos = 'python'\n",
        "\n",
        "analisis_de_datos\n",
        "print(f\"la materia que se esta viendo actualmente en herramientas de analisis es {analisis_de_datos}\")\n",
        "\n",
        "proximo_contenido = \"sql\"\n",
        "print(f\"y el siguiente contenido del curso es {proximo_contenido}\")\n"
      ]
    },
    {
      "cell_type": "code",
      "execution_count": null,
      "metadata": {
        "colab": {
          "base_uri": "https://localhost:8080/"
        },
        "id": "A6ummlRbQM9g",
        "outputId": "bbe71e07-c507-4add-c117-3f46f149b1fe"
      },
      "outputs": [
        {
          "name": "stdout",
          "output_type": "stream",
          "text": [
            "la suma de las notas es: 2.5\n",
            "El alumno Amaru Fernandez obtuvo nota final: 1.25\n",
            "La persona Amaru Fernandez paso el curso False\n",
            "La persona Amaru Fernandez paso el curso False y da examen False\n",
            "La persona Amaru Fernandez repite el ramo True\n"
          ]
        }
      ],
      "source": [
        "# metodo para manejoar los controles y definir si una persona pasa, da examen o repite el curso\n",
        "nombre_alumno = \"Amaru Fernandez\"\n",
        "\n",
        "control_uno = 1\n",
        "control_dos = 1.5\n",
        "control_tres = 0\n",
        "control_cuatro = 0\n",
        "\n",
        "cantidad_de_controles = 2\n",
        "\n",
        "# obteniendo la suma de las notas\n",
        "suma_total = control_uno + control_dos + control_tres + control_cuatro\n",
        "print(f\"la suma de las notas es: {suma_total}\")\n",
        "\n",
        "# obteniendo promedio\n",
        "promedio_curso = suma_total/cantidad_de_controles\n",
        "print(f\"El alumno {nombre_alumno} obtuvo nota final: {promedio_curso}\")\n",
        "\n",
        "paso_curso = promedio_curso >= 6\n",
        "print(f\"La persona {nombre_alumno} paso el curso {paso_curso}\")\n",
        "\n",
        "da_examen = promedio_curso < 6 and promedio_curso >= 4\n",
        "print(f\"La persona {nombre_alumno} paso el curso {paso_curso} y da examen {da_examen}\")\n",
        "\n",
        "repite_curso = promedio_curso < 4\n",
        "print(f\"La persona {nombre_alumno} repite el ramo {repite_curso}\")\n"
      ]
    },
    {
      "cell_type": "code",
      "execution_count": null,
      "metadata": {
        "colab": {
          "base_uri": "https://localhost:8080/"
        },
        "id": "Q1Y9aiNdZh0C",
        "outputId": "99e7dac6-1b10-4192-c706-6f1e0c128693"
      },
      "outputs": [
        {
          "name": "stdout",
          "output_type": "stream",
          "text": [
            "el resultado de la operacion % es: 2\n",
            "el resultado de la operacion % es: 0\n"
          ]
        }
      ],
      "source": [
        "# probando la operacion modulo -> %\n",
        "\n",
        "\n",
        "result_oper_mod = 5 % 3\n",
        "print(f\"el resultado de la operacion % es: {result_oper_mod}\")\n",
        "\n",
        "result_oper_mod = 6 % 3\n",
        "print(f\"el resultado de la operacion % es: {result_oper_mod}\")\n"
      ]
    },
    {
      "cell_type": "markdown",
      "metadata": {
        "id": "_PN6RBDTipQU"
      },
      "source": [
        "## Unidad Dos "
      ]
    },
    {
      "cell_type": "markdown",
      "metadata": {
        "id": "CnNGcucAitql"
      },
      "source": [
        "### if - elif - else"
      ]
    },
    {
      "cell_type": "code",
      "execution_count": null,
      "metadata": {
        "colab": {
          "base_uri": "https://localhost:8080/"
        },
        "id": "gqchdSCOcpyP",
        "outputId": "fd7ab55f-dd36-4b82-8868-fc918bdc9b13"
      },
      "outputs": [
        {
          "name": "stdout",
          "output_type": "stream",
          "text": [
            "El alumno Amaru Fernandez obtuvo nota final: 6.0\n",
            "por lo tanto: aprobo el curso Herramientas de analisis\n",
            "En la escala de aprendizaje obtuvo: muy bueno\n"
          ]
        }
      ],
      "source": [
        "# metodo para manejoar los controles y definir si una persona pasa, da examen o repite el curso\n",
        "nombre_alumno = \"Amaru Fernandez\"\n",
        "\n",
        "control_uno = 6.5\n",
        "control_dos = 5.5\n",
        "control_tres = 0\n",
        "control_cuatro = 0\n",
        "\n",
        "cantidad_de_controles = 2\n",
        "\n",
        "curso_en_proceso = \"Herramientas de analisis\"\n",
        "\n",
        "# obteniendo promedio\n",
        "suma_total = control_uno + control_dos + control_tres + control_cuatro\n",
        "promedio_curso = suma_total/cantidad_de_controles\n",
        "print(f\"El alumno {nombre_alumno} obtuvo nota final: {promedio_curso}\")\n",
        "\n",
        "\n",
        "if promedio_curso <= 10 and promedio_curso >=1:\n",
        "  if promedio_curso >= 6:\n",
        "    estado_curso = \"aprobo el\"\n",
        "  else:\n",
        "    if promedio_curso < 6 and promedio_curso >= 4:\n",
        "      estado_curso = \"realiza examen del\"\n",
        "    else:\n",
        "      estado_curso = \"reprobo el\"\n",
        "\n",
        "  print(f\"por lo tanto: {estado_curso} curso {curso_en_proceso}\")\n",
        "\n",
        "  # muy bueno x >= 6\n",
        "  # bueno 5 <= x < 6\n",
        "  # regular 4 <= x < 5\n",
        "  # malo 3 <= x < 4\n",
        "  # muy malo 3 > x\n",
        "\n",
        "  if promedio_curso >= 6:\n",
        "    grado_aprendizaje = \"muy bueno\"\n",
        "  elif promedio_curso < 6 and promedio_curso >= 5:\n",
        "    grado_aprendizaje = \"bueno\"\n",
        "  elif promedio_curso < 5 and promedio_curso >= 4:\n",
        "    grado_aprendizaje = \"regular\"\n",
        "  elif promedio_curso < 4 and promedio_curso >= 3:\n",
        "    grado_aprendizaje = \"malo\"\n",
        "  else:\n",
        "    grado_aprendizaje = \"muy malo\"\n",
        "\n",
        "  print(f\"En la escala de aprendizaje obtuvo: {grado_aprendizaje}\")\n",
        "else:\n",
        "  print(f\"ERROR valor fuera de rango {promedio_curso}\")\n",
        "  "
      ]
    },
    {
      "cell_type": "markdown",
      "metadata": {
        "id": "RkFZ6itGpObL"
      },
      "source": [
        "### Listas"
      ]
    },
    {
      "cell_type": "code",
      "execution_count": null,
      "metadata": {
        "colab": {
          "background_save": true,
          "base_uri": "https://localhost:8080/"
        },
        "id": "ZtSJUsKMpODs",
        "outputId": "5ceb3364-9e31-4a59-9565-859723caebb6"
      },
      "outputs": [
        {
          "name": "stdout",
          "output_type": "stream",
          "text": [
            "mis notas son: []\n",
            "mis notas son: [6.5, 5.5]\n",
            "mis notas son: [6.5, 5.5, 6.0]\n",
            "La cantidad de notas puestas para Pablo Galdames son: 3 las cuales estan compuestas por [6.5, 5.5, 6.0]\n",
            "El alumno Pablo Galdames no se saco la nota 4.0\n",
            "La nota 3 de Pablo Galdames es 6.0\n"
          ]
        }
      ],
      "source": [
        "nombre_alumno = \"Pablo Galdames\"\n",
        "\n",
        "# Creando una lista vacia\n",
        "lista_notas = []\n",
        "print(f\"mis notas son: {lista_notas}\")\n",
        "\n",
        "# Crear una lista con datos\n",
        "lista_notas = [6.5,5.5]\n",
        "print(f\"mis notas son: {lista_notas}\")\n",
        "\n",
        "# Agregar notas\n",
        "lista_notas.append(6.0)\n",
        "print(f\"mis notas son: {lista_notas}\")\n",
        "\n",
        "# ver la cantidad de notas\n",
        "print(f\"La cantidad de notas puestas para {nombre_alumno} son: {len(lista_notas)} las cuales estan compuestas por {lista_notas}\")\n",
        "\n",
        "# la persona se saco un 6\n",
        "nota_a_buscar = 4.0\n",
        "print(f\"El alumno {nombre_alumno} {'si' if nota_a_buscar in lista_notas else 'no'} se saco la nota {nota_a_buscar}\")\n",
        "\n",
        "# revisar una nota en especial\n",
        "posicion_nota = 2\n",
        "if posicion_nota < len(lista_notas):\n",
        "  print(f\"La nota {posicion_nota + 1} de {nombre_alumno} es {lista_notas[posicion_nota]}\")\n",
        "else:\n",
        "  print(f\"El alumno {nombre_alumno} no tiene {posicion_nota+1} evaluaciones\")"
      ]
    },
    {
      "cell_type": "markdown",
      "metadata": {
        "id": "xqlHKVUxw2D8"
      },
      "source": [
        "*** diferencia entre igualar una lista y copiar una lista"
      ]
    },
    {
      "cell_type": "code",
      "execution_count": null,
      "metadata": {
        "colab": {
          "base_uri": "https://localhost:8080/"
        },
        "id": "Jkjoj6H7uWUy",
        "outputId": "ccd59f44-d913-4f96-d569-dfac156e37c0"
      },
      "outputs": [
        {
          "name": "stdout",
          "output_type": "stream",
          "text": [
            "[6.5, 5.5, 6.0] - [6.5, 5.5, 6.0]\n",
            "[6.5, 5.5, 6.0, 8.0] - [6.5, 5.5, 6.0, 8.0]\n",
            "[6.5, 5.5, 6.0, 8.0] - [6.5, 5.5, 6.0, 8.0]\n",
            "[6.5, 5.5, 6.0, 8.0, 8.0] - [6.5, 5.5, 6.0, 8.0]\n"
          ]
        }
      ],
      "source": []
    },
    {
      "cell_type": "markdown",
      "metadata": {
        "id": "gCMafRoe81Ow"
      },
      "source": [
        "### FOR-LOOP"
      ]
    },
    {
      "cell_type": "code",
      "execution_count": null,
      "metadata": {
        "id": "RxoHMSodCEQb"
      },
      "outputs": [],
      "source": [
        "# mis importaciones\n",
        "import time"
      ]
    },
    {
      "cell_type": "markdown",
      "metadata": {
        "id": "PK6njMAYAWDF"
      },
      "source": [
        "#### Ejecutando un for simple"
      ]
    },
    {
      "cell_type": "code",
      "execution_count": null,
      "metadata": {
        "colab": {
          "base_uri": "https://localhost:8080/"
        },
        "id": "9XbaNsw_808b",
        "outputId": "e293f7ed-f3df-40b2-e7f0-d910f5c52b9c"
      },
      "outputs": [
        {
          "name": "stdout",
          "output_type": "stream",
          "text": [
            "Inicio de la ejecucion\n",
            "\n",
            "\n",
            "Inicio ejecucion nro 0 de 4, con una pausa de 2 segundos\n",
            "Fin de la ejecucion nro 0 de 4, con la pausa de 2 segundos\n",
            "Ahora viene la siguiente ejecucion...\n",
            "Inicio ejecucion nro 1 de 4, con una pausa de 2 segundos\n",
            "Fin de la ejecucion nro 1 de 4, con la pausa de 2 segundos\n",
            "Ahora viene la siguiente ejecucion...\n",
            "Inicio ejecucion nro 2 de 4, con una pausa de 2 segundos\n",
            "Fin de la ejecucion nro 2 de 4, con la pausa de 2 segundos\n",
            "Ahora viene la siguiente ejecucion...\n",
            "Inicio ejecucion nro 3 de 4, con una pausa de 2 segundos\n",
            "Fin de la ejecucion nro 3 de 4, con la pausa de 2 segundos\n",
            "Ahora viene la siguiente ejecucion...\n",
            "Inicio ejecucion nro 4 de 4, con una pausa de 2 segundos\n",
            "Fin de la ejecucion nro 4 de 4, con la pausa de 2 segundos\n",
            "\n",
            "\n",
            "Fin del proceso\n"
          ]
        }
      ],
      "source": [
        "tiempo_a_detener = 2\n",
        "rango_a_ejecutar = 5\n",
        "\n",
        "for nro_ejecucion in range(rango_a_ejecutar):\n",
        "  if nro_ejecucion == 0:\n",
        "    print(\"Inicio de la ejecucion\\n\\n\")\n",
        "\n",
        "  print(f'Inicio ejecucion nro {nro_ejecucion} de {rango_a_ejecutar - 1}, con una pausa de {tiempo_a_detener} segundos')\n",
        "  time.sleep(tiempo_a_detener)\n",
        "  print(f'Fin de la ejecucion nro {nro_ejecucion} de {rango_a_ejecutar - 1}, con la pausa de {tiempo_a_detener} segundos')\n",
        "\n",
        "  if nro_ejecucion != rango_a_ejecutar - 1:\n",
        "    print('Ahora viene la siguiente ejecucion...')\n",
        "  else:\n",
        "    print(\"\\n\\nFin del proceso\")"
      ]
    },
    {
      "cell_type": "markdown",
      "metadata": {
        "id": "1QU7t5piB8Hz"
      },
      "source": [
        "#### Ejecutando for usando una lista"
      ]
    },
    {
      "cell_type": "code",
      "execution_count": null,
      "metadata": {
        "colab": {
          "base_uri": "https://localhost:8080/"
        },
        "id": "ZlbuWFmiCBoZ",
        "outputId": "361b34bc-c19c-4922-f068-1bfb9167bb6e"
      },
      "outputs": [
        {
          "name": "stdout",
          "output_type": "stream",
          "text": [
            "La persona Juan que esta en la posicion 0\n",
            "Tiene las notas [5.5, 6.0, 6.5, 8.0, 6.25]\n",
            "Y el promedio es: 6.45\n",
            "La persona Francisca que esta en la posicion 1\n",
            "Tiene las notas [6.5, 5.5, 6.0, 8.0, 8.0]\n",
            "Y el promedio es: 6.8\n"
          ]
        }
      ],
      "source": [
        "# ac\n",
        "lista_todas_las_notas = []\n",
        "lista_todas_las_notas.append(lista_notas)\n",
        "lista_todas_las_notas.append(lista_notas_b)\n",
        "lista_todas_las_notas\n",
        "\n",
        "lista_nombres_alumnos = ['Juan','Francisca']\n",
        "\n",
        "nro_de_notas = 5\n",
        "resultado_examen = 5.5\n",
        "\n",
        "for posicion_elemento in range(len(lista_todas_las_notas)):\n",
        "  print(f'La persona {lista_nombres_alumnos[posicion_elemento]} que esta en la posicion {posicion_elemento}')\n",
        "  if len(lista_todas_las_notas[posicion_elemento]) < nro_de_notas:\n",
        "    print(f'A {lista_nombres_alumnos[posicion_elemento]} le faltan notas, se completaran con la Mediana')\n",
        "    lista_todas_las_notas[posicion_elemento].sort()\n",
        "    print(f'Lista ordenada: {lista_todas_las_notas[posicion_elemento]}')\n",
        "    mediana = (lista_todas_las_notas[posicion_elemento][1] + lista_todas_las_notas[posicion_elemento][2]) / 2\n",
        "    print(f'La mediada de: {lista_nombres_alumnos[posicion_elemento]} es {mediana}')\n",
        "    lista_todas_las_notas[posicion_elemento].append(mediana)\n",
        "  promedio = sum(lista_todas_las_notas[posicion_elemento])/len(lista_todas_las_notas[posicion_elemento])\n",
        "  print(f'Tiene las notas {lista_todas_las_notas[posicion_elemento]}')\n",
        "  print(f'Y el promedio es: {promedio}')\n",
        "\n"
      ]
    },
    {
      "cell_type": "code",
      "execution_count": null,
      "metadata": {
        "colab": {
          "base_uri": "https://localhost:8080/"
        },
        "id": "2cHStRu1FPgb",
        "outputId": "aa37c52c-8ffe-437b-9944-e86baa231312"
      },
      "outputs": [
        {
          "name": "stdout",
          "output_type": "stream",
          "text": [
            "La persona de nombre: Juan tiene los datos correctos\n",
            "El rut 17094762-1 es correcto\n",
            "La persona de nombre: Maria tiene los datos correctos\n",
            "El rut 17194762-5 es incorrecto\n"
          ]
        }
      ],
      "source": [
        "# dependiendo del objetivo es como voy a recorrer los datos\n",
        "cabecera = ['nombre','rut','dv','correo','es_chileno']\n",
        "persona_a = ['Juan',17094762,'1','alto@mimundo.cl',True]\n",
        "persona_b = ['Maria',17194762,'5','cieloestrellado@mimundo.cl',False]\n",
        "\n",
        "personas = [persona_a,persona_b]\n",
        "\n",
        "def verificador_rut(rut):\n",
        "  respuesta = False\n",
        "  if rut == 17094762:\n",
        "    respuesta = '1'\n",
        "  return respuesta\n",
        "\n",
        "\n",
        "for persona in personas:\n",
        "  # validando los datos\n",
        "  if len(persona) == len(cabecera):\n",
        "    nombre = 0\n",
        "    print(f'La persona de {cabecera[nombre]}: {persona[nombre]} tiene los datos correctos')\n",
        "    rut = 1\n",
        "    digito_verigicador = verificador_rut(persona[rut])\n",
        "    dv = 2\n",
        "    if persona[dv] == digito_verigicador:\n",
        "      print(f'El rut {persona[rut]}-{persona[dv]} es correcto')\n",
        "    else:\n",
        "      print(f'El rut {persona[rut]}-{persona[dv]} es incorrecto')\n",
        "  else:\n",
        "    print(f'El conjunto de datos {persona} tiene problemas de datos')\n",
        "\n"
      ]
    },
    {
      "cell_type": "markdown",
      "metadata": {
        "id": "xIblwhp0Xrd3"
      },
      "source": [
        "## Diccionario"
      ]
    },
    {
      "cell_type": "code",
      "execution_count": null,
      "metadata": {
        "colab": {
          "base_uri": "https://localhost:8080/"
        },
        "id": "g3-mUpphYRCs",
        "outputId": "6a69f135-1fd5-4cc7-9a78-daa01a863c1d"
      },
      "outputs": [
        {
          "name": "stdout",
          "output_type": "stream",
          "text": [
            "Los datos de No tiene segundo nombre son: {'nombre': 'Maria', 'rut': 17194762, 'dv': '5', 'correo': 'cieloestrellado@mimundo.cl', 'es_chileno': False, 'notas': [6.5, 5.5, 6.0, 8.0, 8.0]} \n"
          ]
        }
      ],
      "source": [
        "# Diccionario vacio\n",
        "persona = dict()\n",
        "\n",
        "personas = dict()\n",
        "\n",
        "# creando diccionario con datos\n",
        "persona = {\n",
        "    'nombre': 'Juan',\n",
        "    'rut': 17094762,\n",
        "    'dv': '1',\n",
        "    'correo': 'alto@mimundo.cl',\n",
        "    'es_chileno': True,\n",
        "    'notas': lista_todas_las_notas[0],\n",
        "}\n",
        "\n",
        "\n",
        "#print(f'persona: {persona}')\n",
        "personas['17094762'] = persona\n",
        "\n",
        "persona = {\n",
        "    'nombre': 'Maria',\n",
        "    'rut': 17194762,\n",
        "    'dv': '5',\n",
        "    'correo': 'cieloestrellado@mimundo.cl',\n",
        "    'es_chileno': False,\n",
        "    'notas': lista_todas_las_notas[1],\n",
        "}\n",
        "\n",
        "#print(f'persona: {persona}')\n",
        "personas['17194762'] = persona\n",
        "\n",
        "#print(f'persona: {personas}')\n",
        "\n",
        "datos_de_maria = personas['17194762']\n",
        "\n",
        "print(f'Los datos de {datos_de_maria.get(\"segundo_nombre\",\"No tiene segundo nombre\")} son: {datos_de_maria} ')\n",
        "\n"
      ]
    },
    {
      "cell_type": "markdown",
      "metadata": {
        "id": "KzhOTZG26Xrr"
      },
      "source": [
        "# Utiles"
      ]
    },
    {
      "cell_type": "markdown",
      "metadata": {
        "id": "fsUUPbFU7SnI"
      },
      "source": [
        "# Conociendo la Biblioteca (library) time"
      ]
    },
    {
      "cell_type": "code",
      "execution_count": null,
      "metadata": {
        "id": "V4UyJ4S26cyl"
      },
      "outputs": [],
      "source": [
        "import time"
      ]
    },
    {
      "cell_type": "code",
      "execution_count": null,
      "metadata": {
        "colab": {
          "base_uri": "https://localhost:8080/"
        },
        "id": "ULkO64yw7Loa",
        "outputId": "3a8f7aea-b141-46a5-9a6c-c99f5ffb2358"
      },
      "outputs": [
        {
          "name": "stdout",
          "output_type": "stream",
          "text": [
            "antes de detener mi código 2 segundos\n",
            "Despues de la detencion de 2 segundos\n"
          ]
        }
      ],
      "source": [
        "tiempo_a_detener = 2\n",
        "\n",
        "print(f'antes de detener mi código {tiempo_a_detener} segundos')\n",
        "time.sleep(tiempo_a_detener)\n",
        "print(f'Despues de la detencion de {tiempo_a_detener} segundos')"
      ]
    },
    {
      "cell_type": "markdown",
      "metadata": {
        "id": "a48eiCPPcoSU"
      },
      "source": [
        "buscando por valor en un diccionario"
      ]
    },
    {
      "cell_type": "code",
      "execution_count": null,
      "metadata": {
        "colab": {
          "base_uri": "https://localhost:8080/",
          "height": 53
        },
        "id": "R5bjjPHmdh_2",
        "outputId": "f3d54cbd-beb0-4c7d-9891-c5eb4e9bbd8c"
      },
      "outputs": [
        {
          "data": {
            "application/vnd.google.colaboratory.intrinsic+json": {
              "type": "string"
            },
            "text/plain": [
              "\"{'persona': {'nombre': 'Maria', 'rut': 17194762, 'dv': '5', 'correo': 'cieloestrellado@mimundo.cl', 'es_chileno': False, 'notas': [6.5, 5.5, 6.0, 8.0, 8.0]}}\""
            ]
          },
          "execution_count": 60,
          "metadata": {},
          "output_type": "execute_result"
        }
      ],
      "source": [
        "str_personas = str(personas)\n",
        "str_personas"
      ]
    },
    {
      "cell_type": "code",
      "execution_count": null,
      "metadata": {
        "colab": {
          "base_uri": "https://localhost:8080/",
          "height": 53
        },
        "id": "dqWFaAQdcPSn",
        "outputId": "59a94800-1848-4e09-868e-838a3800f007"
      },
      "outputs": [
        {
          "name": "stdout",
          "output_type": "stream",
          "text": [
            "39 - 31\n"
          ]
        },
        {
          "data": {
            "application/vnd.google.colaboratory.intrinsic+json": {
              "type": "string"
            },
            "text/plain": [
              "'rut'"
            ]
          },
          "execution_count": 63,
          "metadata": {},
          "output_type": "execute_result"
        }
      ],
      "source": [
        "# muy ineficiente, revisar pagina enviada por el chat: https://www.geeksforgeeks.org/python-get-key-from-value-in-dictionary/\n",
        "str_personas = str(personas)\n",
        "posicion = str_personas.find('17194762')\n",
        "str_personas[posicion]\n",
        "\n",
        "posicion_inicial = posicion\n",
        "\n",
        "no_encontrado = True\n",
        "contador = 0\n",
        "while no_encontrado:\n",
        "  if \"'\" == str_personas[posicion]:\n",
        "    contador += 1\n",
        "    if contador == 2:\n",
        "      no_encontrado = False\n",
        "  \n",
        "  posicion -= 1\n",
        "\n",
        "print(f'{posicion_inicial} - {posicion}')\n",
        "\n",
        "str_personas[posicion:posicion_inicial].replace(\"'\",\"\").replace(\" \",\"\").replace(\":\",\"\")"
      ]
    }
  ],
  "metadata": {
    "colab": {
      "collapsed_sections": [],
      "provenance": []
    },
    "kernelspec": {
      "display_name": "Python 3",
      "name": "python3"
    },
    "language_info": {
      "name": "python"
    }
  },
  "nbformat": 4,
  "nbformat_minor": 0
}